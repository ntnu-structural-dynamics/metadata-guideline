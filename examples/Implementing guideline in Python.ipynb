{
 "cells": [
  {
   "cell_type": "markdown",
   "metadata": {},
   "source": [
    "# Implementing the guideline in Python\n",
    "\n",
    "This notebook gives an example of how to implement the guideline in Python using the `h5py` package. \n",
    "\n",
    "The owners of a building (shear-frame with four floors) have received complaints from residents that there are excessive vibrations in the building which causes discomfort. A project is established to determine the cause of these vibrations and suggest a solution to the problem. At this stage, the main suspect for the excessive vibrations is a gym located at the first floor of the building. A measurement setup, with two accelerometers and two different trials is used. In the first trial, people are jumping around on the first floor to simulate activity in the gym. In the second, trial only ambient excitation is used. An illustration of the project is given below.\n",
    "\n",
    "![shear-frame-example](shear-frame.png)\n",
    "\n",
    "Assume that the measurements have been performed, and that the data from the two trials are available. We generate `y_trial1` and `y_trial2` below, but typically these would be loaded from the data files produced by your measurement system. "
   ]
  },
  {
   "cell_type": "code",
   "execution_count": 1,
   "metadata": {},
   "outputs": [],
   "source": [
    "import h5py\n",
    "import numpy as np\n",
    "import matplotlib.pyplot as plt"
   ]
  },
  {
   "cell_type": "code",
   "execution_count": 2,
   "metadata": {},
   "outputs": [],
   "source": [
    "fs = 100 # Hz\n",
    "T  = 180 # s\n",
    "\n",
    "t = np.arange(0., T, 1./fs) # Time vector, assume same for both trials\n",
    "y_trial1 = np.random.normal(size=(2, t.size)) # Measurements from trial 1\n",
    "y_trial2 = np.random.normal(size=(2, t.size)) # Measurements from trial 2"
   ]
  },
  {
   "cell_type": "markdown",
   "metadata": {},
   "source": [
    "Now, let us start creating a HDF5 file:"
   ]
  },
  {
   "cell_type": "code",
   "execution_count": 3,
   "metadata": {},
   "outputs": [],
   "source": [
    "h5f = h5py.File(\"shear-frame.h5\", \"w\")"
   ]
  },
  {
   "cell_type": "markdown",
   "metadata": {},
   "source": [
    "and remember, a HDF5 file is also a HDF5 group."
   ]
  },
  {
   "cell_type": "code",
   "execution_count": 4,
   "metadata": {},
   "outputs": [
    {
     "name": "stdout",
     "output_type": "stream",
     "text": [
      "HDF5 file is also a group? True\n"
     ]
    }
   ],
   "source": [
    "print(\"HDF5 file is also a group?\", isinstance(h5f, h5py.Group))"
   ]
  },
  {
   "cell_type": "markdown",
   "metadata": {},
   "source": [
    "Since this is the only measurement project that is going into this file, we add the project metadata to the attributes of the root group:"
   ]
  },
  {
   "cell_type": "code",
   "execution_count": 5,
   "metadata": {},
   "outputs": [],
   "source": [
    "h5f.attrs[\"name\"] = \"IMGIP - Implementation of metadata guideline in python.\"\n",
    "h5f.attrs[\"contact\"] = \"Gunnstein T. Frøseth <mailto:gunnstein.t.froseth@ntnu.no>\"\n",
    "h5f.attrs[\"description\"] = \"This project investigates if the comfort criteria wrt. accelerations \" \\\n",
    "                           \"in a building (shear frame) with three floors are met if a gym is opened \" \\\n",
    "                           \"on the second floor. \" \\\n",
    "                           \"Two trials are performed, one with people jumping around on first floor \" \\\n",
    "                           \"and another where there is only ambient excitation.\"\n",
    "h5f.attrs[\"location\"] = \"Shear frame building, 30309, Gotham City.\"\n",
    "h5f.attrs[\"coordinate system\"] = \"Cartesian coordinate system with origin in base of left column, \" \\\n",
    "                                 \"x-axis positive towards right column, z-axis positive upwards and \" \\\n",
    "                                 \"y-axis defined by a right hand system.\""
   ]
  },
  {
   "cell_type": "markdown",
   "metadata": {},
   "source": [
    "Next, we can add the groups for trial 1 and trial 2 under the root, in `h5py` this can be done with the `require_group` method on the root object. We also add the associated metadata to these groups:"
   ]
  },
  {
   "cell_type": "code",
   "execution_count": 6,
   "metadata": {},
   "outputs": [],
   "source": [
    "trial_1 = h5f.require_group(\"trial 1\")\n",
    "trial_1.attrs[\"name\"] = \"Trial 1\"\n",
    "trial_1.attrs[\"description\"] = \"Two persons excite the structure by jumping around on second floor. \" \\\n",
    "                               \"The trial was started 2021-02-24Z12:01:14. The ambient outside temperature \" \\\n",
    "                               \"was 8 centigrades and there was very litte wind.\"\n",
    "\n",
    "trial_2 = h5f.require_group(\"trial 2\")\n",
    "trial_2.attrs[\"name\"] = \"Trial 2\"\n",
    "trial_2.attrs[\"description\"] = \"Building is empty, only ambient excitation. \" \\\n",
    "                               \"The trial was started 2021-02-24Z12:01:14. The ambient outside temperature \" \\\n",
    "                               \"was 8 centigrades and there was very litte wind.\""
   ]
  },
  {
   "cell_type": "markdown",
   "metadata": {},
   "source": [
    "Finally, we are ready to the data to the file. We start with trial 1:"
   ]
  },
  {
   "cell_type": "code",
   "execution_count": 7,
   "metadata": {},
   "outputs": [],
   "source": [
    "trial_1.create_dataset(\"time\", data=t)\n",
    "dataset_A1 = trial_1.create_dataset(\"A1\", data=y_trial1[0])\n",
    "dataset_A2 = trial_1.create_dataset(\"A2\", data=y_trial1[1])"
   ]
  },
  {
   "cell_type": "markdown",
   "metadata": {},
   "source": [
    "we must also remember to add the metadata as attributes of the dataset. We can achieve this by the `attrs` property of the dataset object exactly like for the groups. "
   ]
  },
  {
   "cell_type": "code",
   "execution_count": 8,
   "metadata": {},
   "outputs": [],
   "source": [
    "dataset_A1.attrs[\"name\"] = \"A1\"\n",
    "dataset_A1.attrs[\"coordinate\"] = np.array([0., 0., 3.])"
   ]
  },
  {
   "cell_type": "markdown",
   "metadata": {},
   "source": [
    "since we also have the exact same sensors and metadata for trial 2, we will add the metadata to the data set with a loop:"
   ]
  },
  {
   "cell_type": "code",
   "execution_count": 9,
   "metadata": {},
   "outputs": [],
   "source": [
    "sensor_metadata ={\n",
    "    \"A1\":{\n",
    "        \"name\": \"A1\",\n",
    "        \"coordinate\": np.array([0., 0., 3.]),\n",
    "        \"orientation\": np.array([1., 0. ,0.]),\n",
    "        \"description\": \"ACME 668 single axis accelerometer, SN:10012, mounted on column with magnet.\",\n",
    "        \"unit\": \"Volt (V)\",\n",
    "        \"conversion\": \"1002 mV/g\",\n",
    "    },\n",
    "    \"A2\":{\n",
    "        \"name\": \"A2\",\n",
    "        \"coordinate\": np.array([8., 0., 9.]),\n",
    "        \"orientation\": np.array([-1., 0. ,0.]),\n",
    "        \"description\": \"ACME 668 single axis accelerometer, SN:10013, mounted on column with magnet.\",\n",
    "        \"unit\": \"Volt (V)\",\n",
    "        \"conversion\": \"1093 mV/g\",\n",
    "    },\n",
    "}\n",
    "\n",
    "trial_1[\"time\"].attrs[\"description\"] = \"Time vector for the data from accelerometers in the project.\"\n",
    "\n",
    "for name, metadata in sensor_metadata.items():\n",
    "    dataset = trial_1[name]\n",
    "    for k, v in metadata.items():\n",
    "        dataset.attrs[k] = v"
   ]
  },
  {
   "cell_type": "markdown",
   "metadata": {},
   "source": [
    "almost done, but we must add the data and metadata to the second trial:"
   ]
  },
  {
   "cell_type": "code",
   "execution_count": 10,
   "metadata": {},
   "outputs": [],
   "source": [
    "trial_2.create_dataset(\"time\", data=t)\n",
    "dataset_A1 = trial_2.create_dataset(\"A1\", data=y_trial2[0])\n",
    "dataset_A2 = trial_2.create_dataset(\"A2\", data=y_trial2[1])\n",
    "\n",
    "trial_2[\"time\"].attrs[\"description\"] = \"Time vector for the data from accelerometers in the project.\"\n",
    "\n",
    "for name, metadata in sensor_metadata.items():\n",
    "    dataset = trial_1[name]\n",
    "    for k, v in metadata.items():\n",
    "        dataset.attrs[k] = v"
   ]
  },
  {
   "cell_type": "markdown",
   "metadata": {},
   "source": [
    "Finally, we close the HDF5 file and it is ready for further use or archiving."
   ]
  },
  {
   "cell_type": "code",
   "execution_count": 11,
   "metadata": {},
   "outputs": [],
   "source": [
    "h5f.close()"
   ]
  },
  {
   "cell_type": "markdown",
   "metadata": {},
   "source": [
    "# Loading and exploring the data in a HDF5 file\n",
    "\n",
    "There exists stand alone data explorers for HDF5 files, check out [HDF View](https://www.hdfgroup.org/downloads/hdfview/).\n",
    "\n",
    "See how to load, inspect and navigate the HDF5 file with `h5py` below:"
   ]
  },
  {
   "cell_type": "code",
   "execution_count": 12,
   "metadata": {},
   "outputs": [],
   "source": [
    "root = h5py.File(\"shear-frame.h5\", 'r')"
   ]
  },
  {
   "cell_type": "code",
   "execution_count": 13,
   "metadata": {},
   "outputs": [
    {
     "data": {
      "text/plain": [
       "<KeysViewHDF5 ['trial 1', 'trial 2']>"
      ]
     },
     "execution_count": 13,
     "metadata": {},
     "output_type": "execute_result"
    }
   ],
   "source": [
    "root.keys()"
   ]
  },
  {
   "cell_type": "code",
   "execution_count": 14,
   "metadata": {},
   "outputs": [
    {
     "data": {
      "text/plain": [
       "<KeysViewHDF5 ['A1', 'A2', 'time']>"
      ]
     },
     "execution_count": 14,
     "metadata": {},
     "output_type": "execute_result"
    }
   ],
   "source": [
    "trial = root[\"trial 1\"]\n",
    "trial.keys()"
   ]
  },
  {
   "cell_type": "code",
   "execution_count": 15,
   "metadata": {},
   "outputs": [],
   "source": [
    "time = trial[\"time\"]\n",
    "A1 = trial[\"A1\"]"
   ]
  },
  {
   "cell_type": "code",
   "execution_count": 16,
   "metadata": {},
   "outputs": [
    {
     "data": {
      "text/plain": [
       "[<matplotlib.lines.Line2D at 0x1fb7ccc7248>]"
      ]
     },
     "execution_count": 16,
     "metadata": {},
     "output_type": "execute_result"
    },
    {
     "data": {
      "image/png": "[encoded data removed]",
      "text/plain": [
       "<Figure size 432x288 with 1 Axes>"
      ]
     },
     "metadata": {
      "needs_background": "light"
     },
     "output_type": "display_data"
    }
   ],
   "source": [
    "plt.plot(time[:], A1[:])"
   ]
  },
  {
   "cell_type": "code",
   "execution_count": 17,
   "metadata": {},
   "outputs": [
    {
     "data": {
      "text/plain": [
       "'ACME 668 single axis accelerometer, SN:10012, mounted on column with magnet.'"
      ]
     },
     "execution_count": 17,
     "metadata": {},
     "output_type": "execute_result"
    }
   ],
   "source": [
    "A1.attrs[\"description\"]"
   ]
  },
  {
   "cell_type": "code",
   "execution_count": null,
   "metadata": {},
   "outputs": [],
   "source": []
  }
 ],
 "metadata": {
  "kernelspec": {
   "display_name": "Python 3",
   "language": "python",
   "name": "python3"
  },
  "language_info": {
   "codemirror_mode": {
    "name": "ipython",
    "version": 3
   },
   "file_extension": ".py",
   "mimetype": "text/x-python",
   "name": "python",
   "nbconvert_exporter": "python",
   "pygments_lexer": "ipython3",
   "version": "3.7.6"
  }
 },
 "nbformat": 4,
 "nbformat_minor": 4
}
